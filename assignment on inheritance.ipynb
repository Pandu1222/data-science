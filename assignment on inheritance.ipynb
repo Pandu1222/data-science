{
 "cells": [
  {
   "cell_type": "code",
   "execution_count": 26,
   "id": "5f758bbc-7ac6-4f00-a376-906b63c359d5",
   "metadata": {},
   "outputs": [],
   "source": [
    "obj=student(\"musthafa\",34,\"ai\")"
   ]
  },
  {
   "cell_type": "code",
   "execution_count": 25,
   "id": "9a12c66d-60a7-423c-9c0e-c6f3734ee66d",
   "metadata": {},
   "outputs": [],
   "source": [
    "class student():\n",
    "    def __init__(self,name,roll_no,branch):\n",
    "        self.name=name\n",
    "        self.roll_no=roll_no\n",
    "        self.branch=branch\n"
   ]
  },
  {
   "cell_type": "code",
   "execution_count": 31,
   "id": "4938c5a0-51e2-4068-bc75-2f68762fc054",
   "metadata": {},
   "outputs": [],
   "source": [
    "class new_student(student):\n",
    "    pass\n",
    "    "
   ]
  },
  {
   "cell_type": "code",
   "execution_count": 32,
   "id": "024aff52-bb35-40c5-8408-5e94c8783ea9",
   "metadata": {},
   "outputs": [],
   "source": [
    "obj2=new_student('musthafa',30,\"aiml\")"
   ]
  },
  {
   "cell_type": "code",
   "execution_count": 33,
   "id": "35f80ae1-1f73-4791-b706-89bfe400033b",
   "metadata": {},
   "outputs": [
    {
     "data": {
      "text/plain": [
       "'ai'"
      ]
     },
     "execution_count": 33,
     "metadata": {},
     "output_type": "execute_result"
    }
   ],
   "source": [
    "obj.branch"
   ]
  },
  {
   "cell_type": "code",
   "execution_count": null,
   "id": "524fe76e-a53d-48ce-89b9-f98540dc3016",
   "metadata": {},
   "outputs": [],
   "source": []
  },
  {
   "cell_type": "code",
   "execution_count": 24,
   "id": "be11bfb8-da10-4cd9-9857-0a92a1b850ec",
   "metadata": {},
   "outputs": [],
   "source": [
    "class Vehicle:\n",
    "    def __init__(self, brand):\n",
    "        self.brand = brand\n",
    "    \n",
    "\n",
    "\n",
    "obj=Vehicle(\"bmw\")\n",
    "\n"
   ]
  },
  {
   "cell_type": "code",
   "execution_count": 33,
   "id": "aa317a0a-26ac-488a-bebf-5ece3c743899",
   "metadata": {},
   "outputs": [],
   "source": [
    "class Car(Vehicle):\n",
    "    def __init__(self, brand, model):\n",
    "        super().__init__(brand)\n",
    "        self.model = model\n",
    "    \n",
    "obj2=Car(\"bmw\",2023)"
   ]
  },
  {
   "cell_type": "code",
   "execution_count": 25,
   "id": "9aff926f-6c23-4083-89a5-cdb2a4b10c8a",
   "metadata": {},
   "outputs": [
    {
     "data": {
      "text/plain": [
       "2023"
      ]
     },
     "execution_count": 25,
     "metadata": {},
     "output_type": "execute_result"
    }
   ],
   "source": [
    "obj2.model"
   ]
  },
  {
   "cell_type": "code",
   "execution_count": 56,
   "id": "99956ecf-b1c1-4d51-8c2f-4b25ff23cb6b",
   "metadata": {},
   "outputs": [],
   "source": [
    "class engine:\n",
    "    def engine_type(self):\n",
    "        print(\"engine type:petrol\")\n",
    "\n",
    "class Wheels:\n",
    "    def wheel_count(self):\n",
    "        print(\"Number of wheels: 4\")\n",
    "\n",
    "class car(engine, Wheels):\n",
    "    def car_info(self):\n",
    "        print(\"this is a car\")\n"
   ]
  },
  {
   "cell_type": "code",
   "execution_count": 57,
   "id": "2820abeb-7d7b-4df7-8853-021843d1c344",
   "metadata": {},
   "outputs": [],
   "source": [
    "obj=car()"
   ]
  },
  {
   "cell_type": "code",
   "execution_count": 58,
   "id": "f073199f-d7f8-4f6f-8b14-7c352291f4c7",
   "metadata": {},
   "outputs": [
    {
     "name": "stdout",
     "output_type": "stream",
     "text": [
      "engine type:petrol\n"
     ]
    }
   ],
   "source": [
    "obj.engine_type()"
   ]
  },
  {
   "cell_type": "code",
   "execution_count": 60,
   "id": "f0e42374-98ab-48dc-ba54-98e8b9e89578",
   "metadata": {},
   "outputs": [
    {
     "name": "stdout",
     "output_type": "stream",
     "text": [
      "Number of wheels: 4\n"
     ]
    }
   ],
   "source": [
    "obj.wheel_count()"
   ]
  },
  {
   "cell_type": "code",
   "execution_count": 62,
   "id": "f32026fe-3382-4e1d-8266-5b3defab3f8b",
   "metadata": {},
   "outputs": [
    {
     "name": "stdout",
     "output_type": "stream",
     "text": [
      "this is a car\n"
     ]
    }
   ],
   "source": [
    "obj.car_info()"
   ]
  },
  {
   "cell_type": "code",
   "execution_count": 11,
   "id": "5afaf91f-5a70-45d6-8b41-a18a8c266759",
   "metadata": {},
   "outputs": [],
   "source": [
    "class Animal():\n",
    "    def animal_sound(self):\n",
    "        print(\"animal sounds\")\n",
    "class Dog(Animal): \n",
    "    def make_sound(self):\n",
    "        print(\"barks\")\n",
    "class Cat(Animal):\n",
    "    def make_sound(self):\n",
    "        print(\"meow\")"
   ]
  },
  {
   "cell_type": "code",
   "execution_count": 12,
   "id": "cfb81556-873b-439b-bfb5-0c46eb0c4a79",
   "metadata": {},
   "outputs": [],
   "source": [
    "cat=Cat()"
   ]
  },
  {
   "cell_type": "code",
   "execution_count": 13,
   "id": "5a506c9a-3d6a-416d-ab1b-2c5a80d54210",
   "metadata": {},
   "outputs": [
    {
     "name": "stdout",
     "output_type": "stream",
     "text": [
      "meow\n"
     ]
    }
   ],
   "source": [
    "cat.make_sound()"
   ]
  },
  {
   "cell_type": "code",
   "execution_count": 14,
   "id": "7c7ef1e9-8aea-41df-a9a8-b57356cf06fd",
   "metadata": {},
   "outputs": [],
   "source": [
    "dog=Dog()"
   ]
  },
  {
   "cell_type": "code",
   "execution_count": 15,
   "id": "bf5c2932-3b3e-46f2-8c6e-e5636e0d8ae1",
   "metadata": {},
   "outputs": [
    {
     "name": "stdout",
     "output_type": "stream",
     "text": [
      "barks\n"
     ]
    }
   ],
   "source": [
    "dog.make_sound()"
   ]
  },
  {
   "cell_type": "code",
   "execution_count": 16,
   "id": "a6f6aa15-3441-46bc-b1ca-9e47afebc10a",
   "metadata": {},
   "outputs": [],
   "source": [
    "animal=Animal()"
   ]
  },
  {
   "cell_type": "code",
   "execution_count": 17,
   "id": "9fdc9a6d-7061-4800-92d7-3694d381bd62",
   "metadata": {},
   "outputs": [
    {
     "name": "stdout",
     "output_type": "stream",
     "text": [
      "animal sounds\n"
     ]
    }
   ],
   "source": [
    "animal.animal_sound()"
   ]
  },
  {
   "cell_type": "code",
   "execution_count": null,
   "id": "e7f0a539-13ca-4962-9b3a-004384ca82a6",
   "metadata": {},
   "outputs": [],
   "source": []
  }
 ],
 "metadata": {
  "kernelspec": {
   "display_name": "Python 3 (ipykernel)",
   "language": "python",
   "name": "python3"
  },
  "language_info": {
   "codemirror_mode": {
    "name": "ipython",
    "version": 3
   },
   "file_extension": ".py",
   "mimetype": "text/x-python",
   "name": "python",
   "nbconvert_exporter": "python",
   "pygments_lexer": "ipython3",
   "version": "3.12.7"
  }
 },
 "nbformat": 4,
 "nbformat_minor": 5
}
