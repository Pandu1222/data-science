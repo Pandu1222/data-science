{
 "cells": [
  {
   "cell_type": "code",
   "execution_count": 9,
   "id": "e491fff9-ba61-48c1-80a4-298939fc95cf",
   "metadata": {},
   "outputs": [
    {
     "name": "stdout",
     "output_type": "stream",
     "text": [
      "1\n",
      "2\n",
      "3\n",
      "4\n"
     ]
    }
   ],
   "source": [
    "for num in range(1, 11):\n",
    "    if num == 5:\n",
    "        break\n",
    "    print(num)"
   ]
  },
  {
   "cell_type": "code",
   "execution_count": 13,
   "id": "45ead07e-d0ab-413e-932b-f15110f868e7",
   "metadata": {},
   "outputs": [
    {
     "name": "stdout",
     "output_type": "stream",
     "text": [
      "1\n",
      "2\n",
      "4\n",
      "5\n"
     ]
    }
   ],
   "source": [
    "l=[1,2,3,4,5]\n",
    "for i in l:\n",
    "    if i==3:\n",
    "        continue\n",
    "    print(i)    "
   ]
  },
  {
   "cell_type": "code",
   "execution_count": 27,
   "id": "12ca8931-774b-4c72-a1d2-a9f4c3aa88a3",
   "metadata": {},
   "outputs": [
    {
     "name": "stdin",
     "output_type": "stream",
     "text": [
      " hello\n"
     ]
    },
    {
     "name": "stdout",
     "output_type": "stream",
     "text": [
      "Found 'o'\n"
     ]
    }
   ],
   "source": [
    "def check(n):\n",
    "    for char in n:\n",
    "        if char == 'o':\n",
    "            print(\"Found 'o'\")\n",
    "            break\n",
    "n=input()\n",
    "check(n)"
   ]
  },
  {
   "cell_type": "code",
   "execution_count": 29,
   "id": "f4046f2b-3b5a-408c-ae9b-f6b81fd7e727",
   "metadata": {},
   "outputs": [
    {
     "name": "stdout",
     "output_type": "stream",
     "text": [
      "2\n",
      "4\n",
      "6\n",
      "10\n"
     ]
    }
   ],
   "source": [
    "n = [1, 2, 3, 4, 5]\n",
    "for num in n:\n",
    "    if num == 4:\n",
    "        continue\n",
    "    print(num * 2)\n"
   ]
  },
  {
   "cell_type": "code",
   "execution_count": 31,
   "id": "a6760368-158e-4e1d-b45e-a33ff601bf1c",
   "metadata": {},
   "outputs": [
    {
     "name": "stdout",
     "output_type": "stream",
     "text": [
      "1\n",
      "2\n",
      "3\n",
      "4\n",
      "5\n",
      "6\n",
      "7\n",
      "8\n",
      "9\n",
      "10\n",
      "11\n",
      "12\n",
      "13\n",
      "14\n"
     ]
    }
   ],
   "source": [
    "num = 1\n",
    "while num <= 20:\n",
    "    if num == 15:\n",
    "        break\n",
    "    print(num)\n",
    "    num += 1\n"
   ]
  },
  {
   "cell_type": "code",
   "execution_count": 33,
   "id": "7787a478-562d-41cd-b9a4-f41f09e000b0",
   "metadata": {},
   "outputs": [
    {
     "name": "stdin",
     "output_type": "stream",
     "text": [
      " 5\n",
      " 3\n"
     ]
    },
    {
     "data": {
      "text/plain": [
       "8"
      ]
     },
     "execution_count": 33,
     "metadata": {},
     "output_type": "execute_result"
    }
   ],
   "source": [
    "def add(a,b):\n",
    "    return a+b\n",
    "a=int(input())\n",
    "b=int(input())\n",
    "add(a,b)"
   ]
  },
  {
   "cell_type": "code",
   "execution_count": 35,
   "id": "228cda4d-1e1e-48d1-9e40-c9568ebad8cf",
   "metadata": {},
   "outputs": [
    {
     "name": "stdin",
     "output_type": "stream",
     "text": [
      " 5\n",
      " 3\n"
     ]
    },
    {
     "data": {
      "text/plain": [
       "15"
      ]
     },
     "execution_count": 35,
     "metadata": {},
     "output_type": "execute_result"
    }
   ],
   "source": [
    "def mul(a,b):\n",
    "    return a*b\n",
    "a=int(input())\n",
    "b=int(input())\n",
    "mul(a,b)"
   ]
  },
  {
   "cell_type": "code",
   "execution_count": 39,
   "id": "b89d23fe-9a61-4d54-bcc6-fd180d7ec50a",
   "metadata": {},
   "outputs": [
    {
     "name": "stdin",
     "output_type": "stream",
     "text": [
      " 5\n",
      " 0\n"
     ]
    },
    {
     "data": {
      "text/plain": [
       "'Cannot divide by zero'"
      ]
     },
     "execution_count": 39,
     "metadata": {},
     "output_type": "execute_result"
    }
   ],
   "source": [
    "def divide(a,b):\n",
    "    if b==0:\n",
    "        return \"Cannot divide by zero\"\n",
    "    else:\n",
    "        return a/b\n",
    "a=int(input())\n",
    "b=int(input())\n",
    "divide(a,b)"
   ]
  },
  {
   "cell_type": "code",
   "execution_count": 45,
   "id": "0c8ea49c-ee14-411f-a646-f384672828b2",
   "metadata": {},
   "outputs": [
    {
     "name": "stdout",
     "output_type": "stream",
     "text": [
      "15\n"
     ]
    }
   ],
   "source": [
    "def add_all(*args):\n",
    "    sum = 0\n",
    "    for n in args:\n",
    "        sum += n\n",
    "    return sum\n",
    "print(add_all(1, 2, 3, 4, 5))"
   ]
  },
  {
   "cell_type": "code",
   "execution_count": 47,
   "id": "9df6b8cb-132e-4b7f-bff8-db0bf95590fa",
   "metadata": {},
   "outputs": [
    {
     "name": "stdout",
     "output_type": "stream",
     "text": [
      "{'add': 8, 'multiply': 8, 'divide': 5.0}\n"
     ]
    }
   ],
   "source": [
    "def calculate(**kwargs):\n",
    "    res={}\n",
    "    for op,values in kwargs.items():\n",
    "        if op==\"add\":\n",
    "            res[op]=values[0]+values[1]\n",
    "        elif op==\"multiply\":\n",
    "            res[op]=values[0]*values[1]\n",
    "        elif op==\"divide\":\n",
    "            if values[1]!=0:  \n",
    "                res[op]=values[0] / values[1]\n",
    "            else:\n",
    "                res[op]=\"Error (division by zero)\"\n",
    "    return res\n",
    "print(calculate(add=(5,3),multiply=(4,2),divide=(10,2)))"
   ]
  },
  {
   "cell_type": "code",
   "execution_count": 53,
   "id": "da5e7231-7993-45f7-a881-2485605191c2",
   "metadata": {},
   "outputs": [
    {
     "data": {
      "text/plain": [
       "1"
      ]
     },
     "execution_count": 53,
     "metadata": {},
     "output_type": "execute_result"
    }
   ],
   "source": [
    "def sub(a,b):\n",
    "    return a-b\n",
    "a=int(input())\n",
    "b=int(input())\n",
    "sub(a,b)    "
   ]
  },
  {
   "cell_type": "code",
   "execution_count": 55,
   "id": "19c43668-644b-4900-8a7f-ab740252c5b1",
   "metadata": {},
   "outputs": [
    {
     "name": "stdin",
     "output_type": "stream",
     "text": [
      " 5\n",
      " 5\n"
     ]
    },
    {
     "data": {
      "text/plain": [
       "0"
      ]
     },
     "execution_count": 55,
     "metadata": {},
     "output_type": "execute_result"
    }
   ],
   "source": [
    "def div(a,b):\n",
    "    return a%b\n",
    "a=int(input())\n",
    "b=int(input())\n",
    "div(a,b)     "
   ]
  },
  {
   "cell_type": "code",
   "execution_count": 61,
   "id": "141b0336-2b81-4031-aa27-686c105e5fb9",
   "metadata": {},
   "outputs": [
    {
     "name": "stdin",
     "output_type": "stream",
     "text": [
      " 6\n"
     ]
    },
    {
     "data": {
      "text/plain": [
       "36"
      ]
     },
     "execution_count": 61,
     "metadata": {},
     "output_type": "execute_result"
    }
   ],
   "source": [
    "def sq(n):\n",
    "    return n*n\n",
    "n=int(input())\n",
    "sq(n)"
   ]
  },
  {
   "cell_type": "code",
   "execution_count": 63,
   "id": "647d1809-69e6-4d6d-a1b0-b8d5bdf28b99",
   "metadata": {},
   "outputs": [
    {
     "name": "stdin",
     "output_type": "stream",
     "text": [
      " 2\n"
     ]
    },
    {
     "data": {
      "text/plain": [
       "8"
      ]
     },
     "execution_count": 63,
     "metadata": {},
     "output_type": "execute_result"
    }
   ],
   "source": [
    "def cube(n):\n",
    "    return n*n*n\n",
    "n=int(input())\n",
    "cube(n)"
   ]
  },
  {
   "cell_type": "code",
   "execution_count": 67,
   "id": "9da68e50-c29e-4d5e-9aa9-252c21b081e0",
   "metadata": {},
   "outputs": [
    {
     "data": {
      "text/plain": [
       "30"
      ]
     },
     "execution_count": 67,
     "metadata": {},
     "output_type": "execute_result"
    }
   ],
   "source": [
    "def find_max(*args):\n",
    "    return max(args)\n",
    "find_max(10,20,30,5)    "
   ]
  },
  {
   "cell_type": "code",
   "execution_count": 69,
   "id": "f36a4855-f222-4707-97b0-602b9eea5d67",
   "metadata": {},
   "outputs": [
    {
     "data": {
      "text/plain": [
       "5"
      ]
     },
     "execution_count": 69,
     "metadata": {},
     "output_type": "execute_result"
    }
   ],
   "source": [
    "def find_min(*args):\n",
    "    return min(args)\n",
    "find_min(10,20,30,5)"
   ]
  },
  {
   "cell_type": "code",
   "execution_count": 75,
   "id": "1e666af9-7ca2-4024-98f4-f3eddaf76cf7",
   "metadata": {},
   "outputs": [
    {
     "name": "stdout",
     "output_type": "stream",
     "text": [
      "10.0\n"
     ]
    }
   ],
   "source": [
    "def average(*args):\n",
    "    total = sum(args)\n",
    "    count = len(args)\n",
    "    return total / count if count != 0 else 0  \n",
    "print(average(5, 10, 15))  "
   ]
  },
  {
   "cell_type": "code",
   "execution_count": 3,
   "id": "1e875c9c-3718-40b9-af7f-11595cc115f3",
   "metadata": {},
   "outputs": [
    {
     "data": {
      "text/plain": [
       "10"
      ]
     },
     "execution_count": 3,
     "metadata": {},
     "output_type": "execute_result"
    }
   ],
   "source": [
    "def tes(*x):\n",
    "    return sum(x)\n",
    "tes(1,2,3,4)    "
   ]
  },
  {
   "cell_type": "code",
   "execution_count": 1,
   "id": "200adfcb-f31a-4f4f-822d-abeddec7f6ac",
   "metadata": {},
   "outputs": [
    {
     "name": "stdout",
     "output_type": "stream",
     "text": [
      "Alice\n",
      "Bob\n",
      "Charlie\n"
     ]
    }
   ],
   "source": [
    "def print_names(*names):\n",
    "    for name in names:\n",
    "        print(name)\n",
    "print_names(\"Alice\", \"Bob\", \"Charlie\")     "
   ]
  },
  {
   "cell_type": "code",
   "execution_count": 18,
   "id": "13ba7ca3-51a3-4062-9f48-f6be098073b8",
   "metadata": {},
   "outputs": [
    {
     "data": {
      "text/plain": [
       "[10, 20, 36]"
      ]
     },
     "execution_count": 18,
     "metadata": {},
     "output_type": "execute_result"
    }
   ],
   "source": [
    "def eve(*a):\n",
    "    l=[]\n",
    "    for i in a:\n",
    "        if i%2==0:\n",
    "            l.append(i)\n",
    "    return l\n",
    "eve(10,20,55,45,36,89)    \n"
   ]
  },
  {
   "cell_type": "code",
   "execution_count": 24,
   "id": "deda583c-1462-45dc-8136-e6b54282db2a",
   "metadata": {},
   "outputs": [
    {
     "data": {
      "text/plain": [
       "[10, 25, 30]"
      ]
     },
     "execution_count": 24,
     "metadata": {},
     "output_type": "execute_result"
    }
   ],
   "source": [
    "def tec(*a):\n",
    "    l=[]\n",
    "    for i in a:\n",
    "        if type(i)==int:\n",
    "            l.append(i)\n",
    "    return l        \n",
    "tec(10, \"apple\", 25, \"banana\", 30)            "
   ]
  },
  {
   "cell_type": "code",
   "execution_count": 3,
   "id": "27adf60b-3e07-458d-b245-fb1a8ae64af2",
   "metadata": {},
   "outputs": [
    {
     "data": {
      "text/plain": [
       "6"
      ]
     },
     "execution_count": 3,
     "metadata": {},
     "output_type": "execute_result"
    }
   ],
   "source": [
    "def pro(*a):\n",
    "    p=1\n",
    "    for i in a:\n",
    "        p*=i\n",
    "    return p\n",
    "pro(1,2,3)   "
   ]
  },
  {
   "cell_type": "code",
   "execution_count": 5,
   "id": "6fbaef91-0b48-48ec-b394-e4cf3cb9461d",
   "metadata": {},
   "outputs": [
    {
     "data": {
      "text/plain": [
       "['Banana', 'Ramesh']"
      ]
     },
     "execution_count": 5,
     "metadata": {},
     "output_type": "execute_result"
    }
   ],
   "source": [
    "def ch(*a):\n",
    "    l=[]\n",
    "    for i in a:\n",
    "        if len(i)>5:\n",
    "            l.append(i)\n",
    "    return l\n",
    "ch(\"apple\",\"Banana\",\"Ramesh\")"
   ]
  },
  {
   "cell_type": "code",
   "execution_count": 7,
   "id": "0956b674-498c-4c03-b671-53484ab13f0b",
   "metadata": {},
   "outputs": [
    {
     "data": {
      "text/plain": [
       "([1, 2, 3], ['apple', 'rio', 'plum'])"
      ]
     },
     "execution_count": 7,
     "metadata": {},
     "output_type": "execute_result"
    }
   ],
   "source": [
    "def l(*a):\n",
    "    m=[]\n",
    "    n=[]\n",
    "    for i in a:\n",
    "        if type(i)==int:\n",
    "            m.append(i)\n",
    "        else:   \n",
    "            n.append(i)\n",
    "    return m,n\n",
    "l(1,2,3,\"apple\",\"rio\",\"plum\")"
   ]
  },
  {
   "cell_type": "code",
   "execution_count": 9,
   "id": "4e2c8d93-437d-4ba9-8e9a-1823b47c7d57",
   "metadata": {},
   "outputs": [
    {
     "data": {
      "text/plain": [
       "(9, 1)"
      ]
     },
     "execution_count": 9,
     "metadata": {},
     "output_type": "execute_result"
    }
   ],
   "source": [
    "def max_min(*a):\n",
    "    return max(a),min(a)\n",
    "max_min(2,1,5,6,8,9)    \n",
    "            "
   ]
  },
  {
   "cell_type": "code",
   "execution_count": 19,
   "id": "a53130a6-8bd1-47c3-bb49-a4f6ecf55c3b",
   "metadata": {},
   "outputs": [
    {
     "name": "stdout",
     "output_type": "stream",
     "text": [
      "Apple\n",
      "Cherry\n",
      "Elderberry\n"
     ]
    }
   ],
   "source": [
    "def eve(*ele):\n",
    "    for index in range(len(ele)):\n",
    "        if index % 2 == 0:\n",
    "            print(ele[index])\n",
    "eve(\"Apple\", \"Banana\", \"Cherry\", \"Date\", \"Elderberry\", \"Fig\")"
   ]
  },
  {
   "cell_type": "code",
   "execution_count": 23,
   "id": "533f8e50-df14-4fdd-b425-e9a3366ab260",
   "metadata": {},
   "outputs": [
    {
     "name": "stdout",
     "output_type": "stream",
     "text": [
      "name: Alice\n",
      "age: 25\n",
      "city: New York\n"
     ]
    }
   ],
   "source": [
    "def test(**kwargs):\n",
    "    for key, value in kwargs.items():\n",
    "        print(f\"{key}: {value}\")\n",
    "test(name=\"Alice\", age=25, city=\"New York\")"
   ]
  },
  {
   "cell_type": "code",
   "execution_count": 25,
   "id": "7dfa85fc-2490-4a45-9ac3-d96ec0311ec4",
   "metadata": {},
   "outputs": [
    {
     "name": "stdout",
     "output_type": "stream",
     "text": [
      "name:alice\n",
      "age:55\n",
      "grade:A\n"
     ]
    }
   ],
   "source": [
    "def details(**kwargs):\n",
    "    for key,value in kwargs.items():\n",
    "        print(f\"{key}:{value}\")\n",
    "details(name=\"alice\",age=55,grade=\"A\")"
   ]
  },
  {
   "cell_type": "code",
   "execution_count": 27,
   "id": "688801ba-cd7b-49a6-a639-140c74c08b8b",
   "metadata": {},
   "outputs": [
    {
     "name": "stdout",
     "output_type": "stream",
     "text": [
      "1\n",
      "2\n",
      "3\n",
      "name: Alice\n",
      "age: 25\n",
      "city: New York\n"
     ]
    }
   ],
   "source": [
    "def tes(*args, **kwargs):\n",
    "    for arg in args:\n",
    "        print(arg)\n",
    "    for key, value in kwargs.items():\n",
    "        print(f\"{key}: {value}\")\n",
    "tes(1, 2, 3, name=\"Alice\", age=25, city=\"New York\")"
   ]
  },
  {
   "cell_type": "code",
   "execution_count": 29,
   "id": "1d117787-7b7c-4d88-bc76-d10c304c5758",
   "metadata": {},
   "outputs": [
    {
     "name": "stdout",
     "output_type": "stream",
     "text": [
      "['Alice', 25, 'USA']\n"
     ]
    }
   ],
   "source": [
    "def store_values(**kwargs):\n",
    "    lst= list(kwargs.values())\n",
    "    return lst\n",
    "values = store_values(name=\"Alice\", age=25, country=\"USA\")\n",
    "print(values) "
   ]
  },
  {
   "cell_type": "code",
   "execution_count": 35,
   "id": "93253831-1ab5-4392-9709-430c966ac9b0",
   "metadata": {},
   "outputs": [
    {
     "name": "stdout",
     "output_type": "stream",
     "text": [
      "Product: Laptop\n",
      "brand: Dell\n",
      "price: 70000\n",
      "color: Black\n"
     ]
    }
   ],
   "source": [
    "def product_details(product_name, **kwargs):\n",
    "    print(f\"Product: {product_name}\")\n",
    "    for key, value in kwargs.items():\n",
    "        print(f\"{key}: {value}\")\n",
    "product_details(\"Laptop\", brand=\"Dell\", price=70000, color=\"Black\")"
   ]
  },
  {
   "cell_type": "code",
   "execution_count": 39,
   "id": "89a47574-1aa0-4062-a197-159405226d38",
   "metadata": {},
   "outputs": [
    {
     "name": "stdout",
     "output_type": "stream",
     "text": [
      "name: Alice\n",
      "city: New York\n",
      "country: USA\n"
     ]
    }
   ],
   "source": [
    "def a(**kwargs):\n",
    "    for key, value in kwargs.items():\n",
    "        if type(value)==str:\n",
    "            print(f\"{key}: {value}\")\n",
    "a(name=\"Alice\", age=25, city=\"New York\", country=\"USA\")"
   ]
  },
  {
   "cell_type": "code",
   "execution_count": 41,
   "id": "905c5a0c-3c64-4a93-849f-b7ad5b6a7fc4",
   "metadata": {},
   "outputs": [
    {
     "name": "stdout",
     "output_type": "stream",
     "text": [
      "age: 20\n",
      "grade: 3\n"
     ]
    }
   ],
   "source": [
    "def student(student_details):\n",
    "    for key, value in student_details.items():\n",
    "        if type(value)==int:\n",
    "            print(f\"{key}: {value}\")\n",
    "student({'name': 'Alice', 'age': 20, 'grade': 3})"
   ]
  },
  {
   "cell_type": "code",
   "execution_count": 49,
   "id": "528b4d4a-cd5d-4330-9cd2-0ee6948c7576",
   "metadata": {},
   "outputs": [
    {
     "name": "stdout",
     "output_type": "stream",
     "text": [
      "name:Alice\n",
      "job:Engineer\n"
     ]
    }
   ],
   "source": [
    "def filter_string_kwargs(**kwargs):\n",
    "    for key, value in kwargs.items():\n",
    "        if type(value)==str:\n",
    "            print(f\"{key}:{value}\")\n",
    "filter_string_kwargs(name=\"Alice\", age=25, job=\"Engineer\")\n"
   ]
  },
  {
   "cell_type": "code",
   "execution_count": 59,
   "id": "a47791c0-94b7-474f-ac53-2ff8283a6dc2",
   "metadata": {},
   "outputs": [
    {
     "name": "stdout",
     "output_type": "stream",
     "text": [
      "product_name:Laptop\n",
      "price:70000\n",
      "brand:Dell\n"
     ]
    }
   ],
   "source": [
    "def tes(**kwargs):\n",
    "    for key, value in kwargs.items():\n",
    "        if \"price\" in kwargs:\n",
    "            print(f\"{key}:{value}\")\n",
    "tes(product_name=\"Laptop\", price=70000, brand=\"Dell\")        "
   ]
  },
  {
   "cell_type": "code",
   "execution_count": 1,
   "id": "e27c95d9-a359-42a8-9f13-61182c7f9e7a",
   "metadata": {},
   "outputs": [
    {
     "name": "stdout",
     "output_type": "stream",
     "text": [
      "age:35\n",
      "height:28\n",
      "experience:5\n"
     ]
    }
   ],
   "source": [
    "def filter_employee_details(**kwargs):\n",
    "    for key, value in kwargs.items():\n",
    "        if type(value)==int or type(value)==float:\n",
    "            print(f\"{key}:{value}\")\n",
    "filter_employee_details(name=\"Alice\", age=35, height=28, experience=5)"
   ]
  },
  {
   "cell_type": "code",
   "execution_count": 3,
   "id": "0daba215-bee0-4689-b99c-189c5c535e23",
   "metadata": {},
   "outputs": [
    {
     "name": "stdout",
     "output_type": "stream",
     "text": [
      "USA: 331000000\n",
      "India: 1380004385\n"
     ]
    }
   ],
   "source": [
    "def print_high_population_countries(country_populations):\n",
    "    for country, population in country_populations.items():\n",
    "        if population > 50_000_000:\n",
    "            print(f\"{country}: {population}\")\n",
    "populations = {'USA': 331000000, 'Canada': 37742154, 'India': 1380004385}\n",
    "print_high_population_countries(populations)"
   ]
  },
  {
   "cell_type": "code",
   "execution_count": null,
   "id": "f2794207-d812-4a43-aff0-3ab084cf290b",
   "metadata": {},
   "outputs": [],
   "source": []
  }
 ],
 "metadata": {
  "kernelspec": {
   "display_name": "Python [conda env:base] *",
   "language": "python",
   "name": "conda-base-py"
  },
  "language_info": {
   "codemirror_mode": {
    "name": "ipython",
    "version": 3
   },
   "file_extension": ".py",
   "mimetype": "text/x-python",
   "name": "python",
   "nbconvert_exporter": "python",
   "pygments_lexer": "ipython3",
   "version": "3.12.7"
  }
 },
 "nbformat": 4,
 "nbformat_minor": 5
}
